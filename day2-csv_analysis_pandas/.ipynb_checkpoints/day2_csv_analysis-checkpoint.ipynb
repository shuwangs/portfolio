{
 "cells": [
  {
   "cell_type": "markdown",
   "id": "38cfce6c-fbf0-48be-b3a6-3bb935875afa",
   "metadata": {},
   "source": [
    "## Introduction"
   ]
  },
  {
   "cell_type": "markdown",
   "id": "c0291d1a-d9b4-4fbd-85f6-04c61c68614f",
   "metadata": {},
   "source": [
    "Hospital readmissions pose a significant financial challenge, often resulting in penalties from the Centers for Medicare & Medicaid Services (CMS) and other payers. These penalties can substantially reduce a hospital’s revenue, especially for facilities with high readmission rates. Diabetes, one of the top ten leading causes of death worldwide, is also the most expensive chronic disease in the United States. Hospitalized patients with diabetes face a higher risk of readmission compared to those without the condition. Consequently, efforts to reduce readmission rates among diabetic patients hold considerable potential for lowering overall healthcare costs.\n",
    "\n",
    "The dataset used in this analysis provides detailed information on patients with obesity, including their readmission status, number of hospital visits, frequency of emergency room use, medical specialty involved, and other relevant clinical and demographic variables. This data offers valuable insights into patterns and risk factors associated with hospital readmissions in this population."
   ]
  },
  {
   "cell_type": "markdown",
   "id": "1dff55c8-e3c0-4e67-9120-97d103aa571d",
   "metadata": {},
   "source": [
    "## Content"
   ]
  },
  {
   "cell_type": "markdown",
   "id": "3139d43f-3288-400e-b6b4-18991f3f161e",
   "metadata": {},
   "source": [
    "- Data description\n",
    "- Plot visualize the distribution of time spent in the hospital.\n",
    "- Explore the relation of medical_specialty, age, readmission with time_in_hospital"
   ]
  },
  {
   "cell_type": "code",
   "execution_count": 2,
   "id": "6ea63fa8-e177-4d17-8b57-ee9306972c0b",
   "metadata": {},
   "outputs": [],
   "source": [
    "import pandas as pd\n",
    "import matplotlib.pyplot as plt\n",
    "import seaborn as sns"
   ]
  },
  {
   "cell_type": "markdown",
   "id": "82b92116-3a9e-45b1-a624-6a85239763d7",
   "metadata": {},
   "source": [
    "#### Read in data"
   ]
  },
  {
   "cell_type": "code",
   "execution_count": 3,
   "id": "9c1994de-553f-4b57-9e0d-02cd09e080cc",
   "metadata": {},
   "outputs": [
    {
     "data": {
      "text/html": [
       "<div>\n",
       "<style scoped>\n",
       "    .dataframe tbody tr th:only-of-type {\n",
       "        vertical-align: middle;\n",
       "    }\n",
       "\n",
       "    .dataframe tbody tr th {\n",
       "        vertical-align: top;\n",
       "    }\n",
       "\n",
       "    .dataframe thead th {\n",
       "        text-align: right;\n",
       "    }\n",
       "</style>\n",
       "<table border=\"1\" class=\"dataframe\">\n",
       "  <thead>\n",
       "    <tr style=\"text-align: right;\">\n",
       "      <th></th>\n",
       "      <th>age</th>\n",
       "      <th>time_in_hospital</th>\n",
       "      <th>n_lab_procedures</th>\n",
       "      <th>n_procedures</th>\n",
       "      <th>n_medications</th>\n",
       "      <th>n_outpatient</th>\n",
       "      <th>n_inpatient</th>\n",
       "      <th>n_emergency</th>\n",
       "      <th>medical_specialty</th>\n",
       "      <th>diag_1</th>\n",
       "      <th>diag_2</th>\n",
       "      <th>diag_3</th>\n",
       "      <th>glucose_test</th>\n",
       "      <th>A1Ctest</th>\n",
       "      <th>change</th>\n",
       "      <th>diabetes_med</th>\n",
       "      <th>readmitted</th>\n",
       "    </tr>\n",
       "  </thead>\n",
       "  <tbody>\n",
       "    <tr>\n",
       "      <th>0</th>\n",
       "      <td>[70-80)</td>\n",
       "      <td>8</td>\n",
       "      <td>72</td>\n",
       "      <td>1</td>\n",
       "      <td>18</td>\n",
       "      <td>2</td>\n",
       "      <td>0</td>\n",
       "      <td>0</td>\n",
       "      <td>Missing</td>\n",
       "      <td>Circulatory</td>\n",
       "      <td>Respiratory</td>\n",
       "      <td>Other</td>\n",
       "      <td>no</td>\n",
       "      <td>no</td>\n",
       "      <td>no</td>\n",
       "      <td>yes</td>\n",
       "      <td>no</td>\n",
       "    </tr>\n",
       "    <tr>\n",
       "      <th>1</th>\n",
       "      <td>[70-80)</td>\n",
       "      <td>3</td>\n",
       "      <td>34</td>\n",
       "      <td>2</td>\n",
       "      <td>13</td>\n",
       "      <td>0</td>\n",
       "      <td>0</td>\n",
       "      <td>0</td>\n",
       "      <td>Other</td>\n",
       "      <td>Other</td>\n",
       "      <td>Other</td>\n",
       "      <td>Other</td>\n",
       "      <td>no</td>\n",
       "      <td>no</td>\n",
       "      <td>no</td>\n",
       "      <td>yes</td>\n",
       "      <td>no</td>\n",
       "    </tr>\n",
       "    <tr>\n",
       "      <th>2</th>\n",
       "      <td>[50-60)</td>\n",
       "      <td>5</td>\n",
       "      <td>45</td>\n",
       "      <td>0</td>\n",
       "      <td>18</td>\n",
       "      <td>0</td>\n",
       "      <td>0</td>\n",
       "      <td>0</td>\n",
       "      <td>Missing</td>\n",
       "      <td>Circulatory</td>\n",
       "      <td>Circulatory</td>\n",
       "      <td>Circulatory</td>\n",
       "      <td>no</td>\n",
       "      <td>no</td>\n",
       "      <td>yes</td>\n",
       "      <td>yes</td>\n",
       "      <td>yes</td>\n",
       "    </tr>\n",
       "    <tr>\n",
       "      <th>3</th>\n",
       "      <td>[70-80)</td>\n",
       "      <td>2</td>\n",
       "      <td>36</td>\n",
       "      <td>0</td>\n",
       "      <td>12</td>\n",
       "      <td>1</td>\n",
       "      <td>0</td>\n",
       "      <td>0</td>\n",
       "      <td>Missing</td>\n",
       "      <td>Circulatory</td>\n",
       "      <td>Other</td>\n",
       "      <td>Diabetes</td>\n",
       "      <td>no</td>\n",
       "      <td>no</td>\n",
       "      <td>yes</td>\n",
       "      <td>yes</td>\n",
       "      <td>yes</td>\n",
       "    </tr>\n",
       "    <tr>\n",
       "      <th>4</th>\n",
       "      <td>[60-70)</td>\n",
       "      <td>1</td>\n",
       "      <td>42</td>\n",
       "      <td>0</td>\n",
       "      <td>7</td>\n",
       "      <td>0</td>\n",
       "      <td>0</td>\n",
       "      <td>0</td>\n",
       "      <td>InternalMedicine</td>\n",
       "      <td>Other</td>\n",
       "      <td>Circulatory</td>\n",
       "      <td>Respiratory</td>\n",
       "      <td>no</td>\n",
       "      <td>no</td>\n",
       "      <td>no</td>\n",
       "      <td>yes</td>\n",
       "      <td>no</td>\n",
       "    </tr>\n",
       "  </tbody>\n",
       "</table>\n",
       "</div>"
      ],
      "text/plain": [
       "       age  time_in_hospital  n_lab_procedures  n_procedures  n_medications  \\\n",
       "0  [70-80)                 8                72             1             18   \n",
       "1  [70-80)                 3                34             2             13   \n",
       "2  [50-60)                 5                45             0             18   \n",
       "3  [70-80)                 2                36             0             12   \n",
       "4  [60-70)                 1                42             0              7   \n",
       "\n",
       "   n_outpatient  n_inpatient  n_emergency medical_specialty       diag_1  \\\n",
       "0             2            0            0           Missing  Circulatory   \n",
       "1             0            0            0             Other        Other   \n",
       "2             0            0            0           Missing  Circulatory   \n",
       "3             1            0            0           Missing  Circulatory   \n",
       "4             0            0            0  InternalMedicine        Other   \n",
       "\n",
       "        diag_2       diag_3 glucose_test A1Ctest change diabetes_med  \\\n",
       "0  Respiratory        Other           no      no     no          yes   \n",
       "1        Other        Other           no      no     no          yes   \n",
       "2  Circulatory  Circulatory           no      no    yes          yes   \n",
       "3        Other     Diabetes           no      no    yes          yes   \n",
       "4  Circulatory  Respiratory           no      no     no          yes   \n",
       "\n",
       "  readmitted  \n",
       "0         no  \n",
       "1         no  \n",
       "2        yes  \n",
       "3        yes  \n",
       "4         no  "
      ]
     },
     "execution_count": 3,
     "metadata": {},
     "output_type": "execute_result"
    }
   ],
   "source": [
    "df = pd.read_csv(\"data/hospital_readmissions.csv\")\n",
    "df.head()"
   ]
  },
  {
   "cell_type": "markdown",
   "id": "09c3147a-5b0d-4f4b-a114-3aa8aade9a65",
   "metadata": {},
   "source": [
    "### EDA"
   ]
  },
  {
   "cell_type": "markdown",
   "id": "d87a712e-ef47-4214-bf7a-8aae8ee82375",
   "metadata": {},
   "source": [
    "Check the structure of the dataset using .info() to understand column types and missing values."
   ]
  },
  {
   "cell_type": "code",
   "execution_count": 7,
   "id": "e0a341cd-29e8-47bd-94d7-e4e5f814c89f",
   "metadata": {},
   "outputs": [
    {
     "name": "stdout",
     "output_type": "stream",
     "text": [
      "<class 'pandas.core.frame.DataFrame'>\n",
      "RangeIndex: 25000 entries, 0 to 24999\n",
      "Data columns (total 17 columns):\n",
      " #   Column             Non-Null Count  Dtype \n",
      "---  ------             --------------  ----- \n",
      " 0   age                25000 non-null  object\n",
      " 1   time_in_hospital   25000 non-null  int64 \n",
      " 2   n_lab_procedures   25000 non-null  int64 \n",
      " 3   n_procedures       25000 non-null  int64 \n",
      " 4   n_medications      25000 non-null  int64 \n",
      " 5   n_outpatient       25000 non-null  int64 \n",
      " 6   n_inpatient        25000 non-null  int64 \n",
      " 7   n_emergency        25000 non-null  int64 \n",
      " 8   medical_specialty  25000 non-null  object\n",
      " 9   diag_1             25000 non-null  object\n",
      " 10  diag_2             25000 non-null  object\n",
      " 11  diag_3             25000 non-null  object\n",
      " 12  glucose_test       25000 non-null  object\n",
      " 13  A1Ctest            25000 non-null  object\n",
      " 14  change             25000 non-null  object\n",
      " 15  diabetes_med       25000 non-null  object\n",
      " 16  readmitted         25000 non-null  object\n",
      "dtypes: int64(7), object(10)\n",
      "memory usage: 3.2+ MB\n"
     ]
    }
   ],
   "source": [
    "df.info()"
   ]
  },
  {
   "cell_type": "markdown",
   "id": "7fbbc031-0762-43d4-a1fc-8b0f80ca01e7",
   "metadata": {},
   "source": [
    "Check the dimension of the dataset"
   ]
  },
  {
   "cell_type": "code",
   "execution_count": 8,
   "id": "4a2a43d8-2c21-45e4-b5d1-516e59375b4d",
   "metadata": {},
   "outputs": [
    {
     "data": {
      "text/plain": [
       "(25000, 17)"
      ]
     },
     "execution_count": 8,
     "metadata": {},
     "output_type": "execute_result"
    }
   ],
   "source": [
    "df.shape"
   ]
  },
  {
   "cell_type": "markdown",
   "id": "9fab7079-b7d9-464a-95d3-67ff1253c3f4",
   "metadata": {},
   "source": [
    "This dataset is pre-cleaned and contains no missing values."
   ]
  },
  {
   "cell_type": "markdown",
   "id": "0d11b259-8baf-4121-ab94-99df92214174",
   "metadata": {
    "jp-MarkdownHeadingCollapsed": true
   },
   "source": [
    "Description of the data"
   ]
  },
  {
   "cell_type": "code",
   "execution_count": 10,
   "id": "1bbb29bc-94ad-4cdc-a8d5-b03587d14e8b",
   "metadata": {
    "scrolled": true
   },
   "outputs": [
    {
     "data": {
      "text/html": [
       "<div>\n",
       "<style scoped>\n",
       "    .dataframe tbody tr th:only-of-type {\n",
       "        vertical-align: middle;\n",
       "    }\n",
       "\n",
       "    .dataframe tbody tr th {\n",
       "        vertical-align: top;\n",
       "    }\n",
       "\n",
       "    .dataframe thead th {\n",
       "        text-align: right;\n",
       "    }\n",
       "</style>\n",
       "<table border=\"1\" class=\"dataframe\">\n",
       "  <thead>\n",
       "    <tr style=\"text-align: right;\">\n",
       "      <th></th>\n",
       "      <th>time_in_hospital</th>\n",
       "      <th>n_lab_procedures</th>\n",
       "      <th>n_procedures</th>\n",
       "      <th>n_medications</th>\n",
       "      <th>n_outpatient</th>\n",
       "      <th>n_inpatient</th>\n",
       "      <th>n_emergency</th>\n",
       "    </tr>\n",
       "  </thead>\n",
       "  <tbody>\n",
       "    <tr>\n",
       "      <th>count</th>\n",
       "      <td>25000.00000</td>\n",
       "      <td>25000.00000</td>\n",
       "      <td>25000.000000</td>\n",
       "      <td>25000.000000</td>\n",
       "      <td>25000.000000</td>\n",
       "      <td>25000.000000</td>\n",
       "      <td>25000.000000</td>\n",
       "    </tr>\n",
       "    <tr>\n",
       "      <th>mean</th>\n",
       "      <td>4.45332</td>\n",
       "      <td>43.24076</td>\n",
       "      <td>1.352360</td>\n",
       "      <td>16.252400</td>\n",
       "      <td>0.366400</td>\n",
       "      <td>0.615960</td>\n",
       "      <td>0.186600</td>\n",
       "    </tr>\n",
       "    <tr>\n",
       "      <th>std</th>\n",
       "      <td>3.00147</td>\n",
       "      <td>19.81862</td>\n",
       "      <td>1.715179</td>\n",
       "      <td>8.060532</td>\n",
       "      <td>1.195478</td>\n",
       "      <td>1.177951</td>\n",
       "      <td>0.885873</td>\n",
       "    </tr>\n",
       "    <tr>\n",
       "      <th>min</th>\n",
       "      <td>1.00000</td>\n",
       "      <td>1.00000</td>\n",
       "      <td>0.000000</td>\n",
       "      <td>1.000000</td>\n",
       "      <td>0.000000</td>\n",
       "      <td>0.000000</td>\n",
       "      <td>0.000000</td>\n",
       "    </tr>\n",
       "    <tr>\n",
       "      <th>25%</th>\n",
       "      <td>2.00000</td>\n",
       "      <td>31.00000</td>\n",
       "      <td>0.000000</td>\n",
       "      <td>11.000000</td>\n",
       "      <td>0.000000</td>\n",
       "      <td>0.000000</td>\n",
       "      <td>0.000000</td>\n",
       "    </tr>\n",
       "    <tr>\n",
       "      <th>50%</th>\n",
       "      <td>4.00000</td>\n",
       "      <td>44.00000</td>\n",
       "      <td>1.000000</td>\n",
       "      <td>15.000000</td>\n",
       "      <td>0.000000</td>\n",
       "      <td>0.000000</td>\n",
       "      <td>0.000000</td>\n",
       "    </tr>\n",
       "    <tr>\n",
       "      <th>75%</th>\n",
       "      <td>6.00000</td>\n",
       "      <td>57.00000</td>\n",
       "      <td>2.000000</td>\n",
       "      <td>20.000000</td>\n",
       "      <td>0.000000</td>\n",
       "      <td>1.000000</td>\n",
       "      <td>0.000000</td>\n",
       "    </tr>\n",
       "    <tr>\n",
       "      <th>max</th>\n",
       "      <td>14.00000</td>\n",
       "      <td>113.00000</td>\n",
       "      <td>6.000000</td>\n",
       "      <td>79.000000</td>\n",
       "      <td>33.000000</td>\n",
       "      <td>15.000000</td>\n",
       "      <td>64.000000</td>\n",
       "    </tr>\n",
       "  </tbody>\n",
       "</table>\n",
       "</div>"
      ],
      "text/plain": [
       "       time_in_hospital  n_lab_procedures  n_procedures  n_medications  \\\n",
       "count       25000.00000       25000.00000  25000.000000   25000.000000   \n",
       "mean            4.45332          43.24076      1.352360      16.252400   \n",
       "std             3.00147          19.81862      1.715179       8.060532   \n",
       "min             1.00000           1.00000      0.000000       1.000000   \n",
       "25%             2.00000          31.00000      0.000000      11.000000   \n",
       "50%             4.00000          44.00000      1.000000      15.000000   \n",
       "75%             6.00000          57.00000      2.000000      20.000000   \n",
       "max            14.00000         113.00000      6.000000      79.000000   \n",
       "\n",
       "       n_outpatient   n_inpatient   n_emergency  \n",
       "count  25000.000000  25000.000000  25000.000000  \n",
       "mean       0.366400      0.615960      0.186600  \n",
       "std        1.195478      1.177951      0.885873  \n",
       "min        0.000000      0.000000      0.000000  \n",
       "25%        0.000000      0.000000      0.000000  \n",
       "50%        0.000000      0.000000      0.000000  \n",
       "75%        0.000000      1.000000      0.000000  \n",
       "max       33.000000     15.000000     64.000000  "
      ]
     },
     "execution_count": 10,
     "metadata": {},
     "output_type": "execute_result"
    }
   ],
   "source": [
    "df.describe() "
   ]
  },
  {
   "cell_type": "code",
   "execution_count": 13,
   "id": "bae9d1dc-c129-445b-a5a8-7969451f9e0c",
   "metadata": {},
   "outputs": [
    {
     "data": {
      "text/plain": [
       "readmitted\n",
       "no     13246\n",
       "yes    11754\n",
       "Name: count, dtype: int64"
      ]
     },
     "execution_count": 13,
     "metadata": {},
     "output_type": "execute_result"
    }
   ],
   "source": [
    "df[\"readmitted\"].value_counts()"
   ]
  },
  {
   "cell_type": "markdown",
   "id": "216615ad-8610-4224-841e-b2da4d5b5b68",
   "metadata": {},
   "source": [
    "#### Plot the distribution of time-in-hospital"
   ]
  },
  {
   "cell_type": "code",
   "execution_count": 42,
   "id": "f44cf899-60df-4749-b617-209bbc57b4e9",
   "metadata": {},
   "outputs": [
    {
     "data": {
      "image/png": "[encoded data removed]",
      "text/plain": [
       "<Figure size 1000x600 with 1 Axes>"
      ]
     },
     "metadata": {},
     "output_type": "display_data"
    }
   ],
   "source": [
    "plt.figure(figsize = (10, 6))\n",
    "sns.histplot(df, x = \"time_in_hospital\", bins = 10, color =\"#beaed4\",kde=True, hue= \"readmitted\" )\n",
    "plt.xlabel(\"Days in the hospital\", fontsize = 12)\n",
    "plt.ylabel(\"Number of patients\", fontsize = 12)\n",
    "plt.title(\"Hospital Stay Distribution\", fontsize = 14)\n",
    "plt.show()"
   ]
  },
  {
   "cell_type": "markdown",
   "id": "d7f79fc1-b56a-4cbf-beb2-cd4475e4f293",
   "metadata": {},
   "source": [
    "#### Which medical specialty is the most common"
   ]
  },
  {
   "cell_type": "code",
   "execution_count": 10,
   "id": "0d80abda-1c62-4294-a046-3a16be983a2e",
   "metadata": {},
   "outputs": [
    {
     "data": {
      "text/plain": [
       "medical_specialty\n",
       "Missing                   12382\n",
       "InternalMedicine           3565\n",
       "Other                      2664\n",
       "Emergency/Trauma           1885\n",
       "Family/GeneralPractice     1882\n",
       "Name: count, dtype: int64"
      ]
     },
     "execution_count": 10,
     "metadata": {},
     "output_type": "execute_result"
    }
   ],
   "source": [
    "df[\"medical_specialty\"].value_counts().head()"
   ]
  },
  {
   "cell_type": "markdown",
   "id": "5880ad5c-8d17-45d6-bbae-176274d41732",
   "metadata": {},
   "source": [
    "#### The relation of  medical specialty and the time in hospital"
   ]
  },
  {
   "cell_type": "code",
   "execution_count": 12,
   "id": "84077ade-6a55-4b78-b4b1-b20105d75be2",
   "metadata": {},
   "outputs": [
    {
     "data": {
      "text/plain": [
       "medical_specialty\n",
       "InternalMedicine          4.748948\n",
       "Surgery                   4.625721\n",
       "Other                     4.590465\n",
       "Emergency/Trauma          4.516711\n",
       "Family/GeneralPractice    4.424548\n",
       "Name: time_in_hospital, dtype: float64"
      ]
     },
     "execution_count": 12,
     "metadata": {},
     "output_type": "execute_result"
    }
   ],
   "source": [
    "df.groupby(\"medical_specialty\")[\"time_in_hospital\"].mean().sort_values(ascending = False).head()"
   ]
  },
  {
   "cell_type": "markdown",
   "id": "1f72b9d2-acf2-466d-8432-e960613d4b8d",
   "metadata": {},
   "source": [
    "#### Age versus the time in the hospital"
   ]
  },
  {
   "cell_type": "code",
   "execution_count": 13,
   "id": "075e2f87-6ad6-4737-b86b-c438e6ba0091",
   "metadata": {},
   "outputs": [
    {
     "data": {
      "text/plain": [
       "age\n",
       "[80-90)     4.813773\n",
       "[90-100)    4.762667\n",
       "[70-80)     4.599093\n",
       "[60-70)     4.384407\n",
       "[50-60)     4.154537\n",
       "[40-50)     4.011453\n",
       "Name: time_in_hospital, dtype: float64"
      ]
     },
     "execution_count": 13,
     "metadata": {},
     "output_type": "execute_result"
    }
   ],
   "source": [
    "df.groupby(\"age\")[\"time_in_hospital\"].mean().sort_values(ascending = False)"
   ]
  },
  {
   "cell_type": "markdown",
   "id": "88469015-a22f-4dfd-81b2-63d3229dd087",
   "metadata": {},
   "source": [
    "The result suggests a potential positive correlation between patient age and hospital stay duration."
   ]
  },
  {
   "cell_type": "markdown",
   "id": "46e39c38-b051-4cb3-aca3-2f8d0ee2b9f3",
   "metadata": {},
   "source": [
    "#### Dig into see the readimission status"
   ]
  },
  {
   "cell_type": "code",
   "execution_count": 15,
   "id": "579adc5c-0440-43a2-b94a-91353edbe472",
   "metadata": {},
   "outputs": [
    {
     "data": {
      "text/plain": [
       "readmitted\n",
       "no     4.331345\n",
       "yes    4.590778\n",
       "Name: time_in_hospital, dtype: float64"
      ]
     },
     "execution_count": 15,
     "metadata": {},
     "output_type": "execute_result"
    }
   ],
   "source": [
    "df.groupby(\"readmitted\")[\"time_in_hospital\"].mean()"
   ]
  },
  {
   "cell_type": "markdown",
   "id": "1b0a621a-ad08-4e52-b49e-12829f23c335",
   "metadata": {},
   "source": [
    "### Summary\n",
    "TThis project provides a preliminary exploratory analysis of hospital readmissions among diabetic patients. We investigated how patient age, length of hospital stay, and medical specialty are related to the likelihood of readmission. The analysis reveals meaningful patterns that can inform future predictive modeling and hospital resource planning."
   ]
  }
 ],
 "metadata": {
  "kernelspec": {
   "display_name": "Python 3 (ipykernel)",
   "language": "python",
   "name": "python3"
  },
  "language_info": {
   "codemirror_mode": {
    "name": "ipython",
    "version": 3
   },
   "file_extension": ".py",
   "mimetype": "text/x-python",
   "name": "python",
   "nbconvert_exporter": "python",
   "pygments_lexer": "ipython3",
   "version": "3.10.5"
  }
 },
 "nbformat": 4,
 "nbformat_minor": 5
}
